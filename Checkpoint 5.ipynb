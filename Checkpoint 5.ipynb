{
 "cells": [
  {
   "cell_type": "markdown",
   "id": "8c2aed84",
   "metadata": {},
   "source": [
    "# Question 1"
   ]
  },
  {
   "cell_type": "code",
   "execution_count": 10,
   "id": "3f03fe1c",
   "metadata": {},
   "outputs": [
    {
     "data": {
      "text/plain": [
       "(1, 2, 3)"
      ]
     },
     "execution_count": 10,
     "metadata": {},
     "output_type": "execute_result"
    }
   ],
   "source": [
    "class Point3D:\n",
    "    def __init__(self, x, y,z): \n",
    "        self.x=x\n",
    "        self.y=y\n",
    "        self.z=z\n",
    "    def afficher_variable(self):\n",
    "        return self.x, self.y, self.z\n",
    "\n",
    "my_point=Point3D(1,2,3)\n",
    "my_point.afficher_variable()\n",
    "        "
   ]
  },
  {
   "cell_type": "markdown",
   "id": "118c2bf9",
   "metadata": {},
   "source": [
    "# Question 2"
   ]
  },
  {
   "cell_type": "code",
   "execution_count": 20,
   "id": "99ba0d50",
   "metadata": {},
   "outputs": [
    {
     "name": "stdout",
     "output_type": "stream",
     "text": [
      "Le périmètre de mon rectangle est :  14\n",
      "La surface de mon rectangle est :  12\n"
     ]
    }
   ],
   "source": [
    "class Rectangle:\n",
    "    def __init__(self,longueur,largeur):\n",
    "        self.longueur = longueur\n",
    "        self.largeur = largeur\n",
    "        \n",
    "    # Méthode qui calcul le périmètre\n",
    "    def Perimetre(self):\n",
    "        return 2*(self.longueur + self.largeur)\n",
    "    \n",
    "    # Méthode qui calcul la surface\n",
    "    def Surface(self):\n",
    "        return self.longueur*self.largeur\n",
    "    \n",
    "        Rectangle.__init__(self,longueur,largeur)\n",
    "          \n",
    "my_rectangle = Rectangle(3, 4)\n",
    "\n",
    "print(\"Le périmètre de mon rectangle est : \",my_rectangle.Perimetre())\n",
    "print(\"La surface de mon rectangle est : \", my_rectangle.Surface())\n",
    "\n",
    " \n"
   ]
  },
  {
   "cell_type": "markdown",
   "id": "1d979326",
   "metadata": {},
   "source": [
    "# Question 3"
   ]
  },
  {
   "cell_type": "code",
   "execution_count": 29,
   "id": "db7e1a38",
   "metadata": {},
   "outputs": [
    {
     "name": "stdout",
     "output_type": "stream",
     "text": [
      "le périmètre du cercle C est  :  6.283185307179586\n",
      "l'aire du cercle C est  :  3.141592653589793\n",
      "le point : ( 1 1 ) appartient au cercle C\n"
     ]
    }
   ],
   "source": [
    "#from math import *\n",
    "class Circle:\n",
    "    def __init__(self , a , b , r):  # O(a,b) \n",
    "        self.a = a\n",
    "        self.b = b\n",
    "        self.r = r\n",
    "    \n",
    "    def périmètre(self):\n",
    "        return 2*pi*self.r\n",
    "       \n",
    "        \n",
    "    def aire(self):\n",
    "        return pi*self.r**2\n",
    " \n",
    "    def formEquation(self,x,y):      \n",
    "        return (x-self.a)**2 + (y-self.b)**2 -self.r**2\n",
    "    def  Inside(self,x,y):\n",
    "        if(self.formEquation (x,y)==0):\n",
    "            print(\"le point : (\",x,y,\") appartient au cercle C\")\n",
    "        else:\n",
    "            print(\"le point : (\",x,y,\") n'appartient pas au cercle C\")\n",
    "            \n",
    "        \n",
    "# Instanciation   \n",
    "C = Circle(1,2,1)\n",
    " \n",
    "print(\"le périmètre du cercle C est  : \", C.périmètre())\n",
    "print(\"l'aire du cercle C est  : \", C.aire())\n",
    "C. Inside (1,1) # affiche: le point : ( 1 1 ) appartient au cercle C\n",
    " "
   ]
  },
  {
   "cell_type": "markdown",
   "id": "5e9b6686",
   "metadata": {},
   "source": [
    "# Question 4"
   ]
  },
  {
   "cell_type": "code",
   "execution_count": 31,
   "id": "5dfa810f",
   "metadata": {},
   "outputs": [
    {
     "name": "stdout",
     "output_type": "stream",
     "text": [
      " Impossible d'effectuer l'opération. Solde insuffisant !\n",
      " Solde  :  23800  DH \n",
      "Sauf erreur ou omisssion ! \n"
     ]
    }
   ],
   "source": [
    "class Bank:    # CompteBancaire=Bank\n",
    "    def __init__(self, solde):\n",
    "        self.solde = solde\n",
    "        \n",
    "    def dépôt(self, argent):\n",
    "        self.solde = self.solde + argent\n",
    "    \n",
    "    def retrait(self, argent):\n",
    "        if(self.solde < argent):\n",
    "            print(\" Impossible d'effectuer l'opération. Solde insuffisant !\")\n",
    "        else:\n",
    "            self.solde = self.solde - argent\n",
    "    \n",
    "    \n",
    "    def afficher(self):\n",
    "      \n",
    "        print(\" Solde  : \", self.solde , \" DH \")\n",
    "        print(\"Sauf erreur ou omisssion ! \")\n",
    "        \n",
    "monCompte = Bank(22300)\n",
    "monCompte.dépôt(1500)\n",
    "monCompte.retrait(24000)\n",
    "\n",
    "monCompte.afficher()\n",
    " \n",
    "\n",
    "\n"
   ]
  },
  {
   "cell_type": "code",
   "execution_count": null,
   "id": "1390339d",
   "metadata": {},
   "outputs": [],
   "source": []
  }
 ],
 "metadata": {
  "kernelspec": {
   "display_name": "Python 3 (ipykernel)",
   "language": "python",
   "name": "python3"
  },
  "language_info": {
   "codemirror_mode": {
    "name": "ipython",
    "version": 3
   },
   "file_extension": ".py",
   "mimetype": "text/x-python",
   "name": "python",
   "nbconvert_exporter": "python",
   "pygments_lexer": "ipython3",
   "version": "3.10.9"
  }
 },
 "nbformat": 4,
 "nbformat_minor": 5
}
