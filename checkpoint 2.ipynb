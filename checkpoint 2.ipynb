{
 "cells": [
  {
   "cell_type": "code",
   "execution_count": 6,
   "id": "970251b5",
   "metadata": {},
   "outputs": [
    {
     "ename": "NameError",
     "evalue": "name 'false' is not defined",
     "output_type": "error",
     "traceback": [
      "\u001b[1;31m---------------------------------------------------------------------------\u001b[0m",
      "\u001b[1;31mNameError\u001b[0m                                 Traceback (most recent call last)",
      "Cell \u001b[1;32mIn[6], line 3\u001b[0m\n\u001b[0;32m      1\u001b[0m \u001b[38;5;28;01mimport\u001b[39;00m \u001b[38;5;21;01mrandom\u001b[39;00m\n\u001b[0;32m      2\u001b[0m random_number \u001b[38;5;241m=\u001b[39m random\u001b[38;5;241m.\u001b[39mrandint(\u001b[38;5;241m1\u001b[39m,\u001b[38;5;241m100\u001b[39m)\n\u001b[1;32m----> 3\u001b[0m win \u001b[38;5;241m=\u001b[39m \u001b[43mfalse\u001b[49m\n\u001b[0;32m      4\u001b[0m turns \u001b[38;5;241m=\u001b[39m\u001b[38;5;241m0\u001b[39m\n\u001b[0;32m      5\u001b[0m \u001b[38;5;28;01mwhile\u001b[39;00m gagner\u001b[38;5;241m==\u001b[39mfalse:\n",
      "\u001b[1;31mNameError\u001b[0m: name 'false' is not defined"
     ]
    }
   ],
   "source": [
    "import random\n",
    "random_number = random.randint(1,100)\n",
    "win = false\n",
    "turns =0\n",
    "while gagner==false:\n",
    "    Your_guess = input(\"Entrer a numbre entre 1 and 100\")\n",
    "    tentatives +=1\n",
    "    if random_number==int(Your_guess):\n",
    "        print(\"tu as gagné!\")\n",
    "        print(\"Nombre de tentatives utilisées: \",tentatives)\n",
    "        win == vrai\n",
    "        break\n",
    "    else:\n",
    "     if random_number>int(Your_guess):\n",
    "        print(\"Your Guess was low, Please enter a higher number\")\n",
    "     else:\n",
    "        print(\"your guess was high, please enter a lower number\")"
   ]
  },
  {
   "cell_type": "code",
   "execution_count": null,
   "id": "7dc99c04",
   "metadata": {},
   "outputs": [],
   "source": []
  },
  {
   "cell_type": "code",
   "execution_count": null,
   "id": "5a292c32",
   "metadata": {},
   "outputs": [],
   "source": []
  }
 ],
 "metadata": {
  "kernelspec": {
   "display_name": "Python 3 (ipykernel)",
   "language": "python",
   "name": "python3"
  },
  "language_info": {
   "codemirror_mode": {
    "name": "ipython",
    "version": 3
   },
   "file_extension": ".py",
   "mimetype": "text/x-python",
   "name": "python",
   "nbconvert_exporter": "python",
   "pygments_lexer": "ipython3",
   "version": "3.10.9"
  }
 },
 "nbformat": 4,
 "nbformat_minor": 5
}
