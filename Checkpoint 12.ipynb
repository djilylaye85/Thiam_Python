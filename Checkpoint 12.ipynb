{
 "cells": [
  {
   "cell_type": "markdown",
   "id": "ad25b018",
   "metadata": {},
   "source": [
    "# Question 1"
   ]
  },
  {
   "cell_type": "code",
   "execution_count": 92,
   "id": "5d18d940",
   "metadata": {},
   "outputs": [],
   "source": [
    "#  Import the Tkinter module by writing import tkinter as tk at the beginning of your code.\n",
    "\n",
    "import tkinter as tk"
   ]
  },
  {
   "cell_type": "markdown",
   "id": "cb9a6ddf",
   "metadata": {},
   "source": [
    "# Question 2"
   ]
  },
  {
   "cell_type": "code",
   "execution_count": 93,
   "id": "0f9d1124",
   "metadata": {},
   "outputs": [
    {
     "name": "stdout",
     "output_type": "stream",
     "text": [
      "Enter the temperature in Fahrenheit: 45\n",
      "45.0 Fahrenheit is equal to 7.222222222222222 Celsius\n"
     ]
    }
   ],
   "source": [
    "\n",
    "# Define a function named fahrenheit_to_celsius() that will be called when the conversion button is clicked.\n",
    "# This function should convert the entered temperature from Fahrenheit to Celsius and display the result in the label.\n",
    "\n",
    "# Define function to convert fahrenheit to celsius\n",
    "def fahrenheit_to_celsius(fahrenheit):\n",
    "    return (fahrenheit - 32) * 5 / 9\n",
    "\n",
    "fahrenheit = float(input(\"Enter the temperature in Fahrenheit: \"))\n",
    "celsius = fahrenheit_to_celsius(fahrenheit)\n",
    "\n",
    "print(f\"{fahrenheit} Fahrenheit is equal to {celsius} Celsius\")"
   ]
  },
  {
   "cell_type": "markdown",
   "id": "e29db0f6",
   "metadata": {},
   "source": [
    "# Question 3"
   ]
  },
  {
   "cell_type": "code",
   "execution_count": 94,
   "id": "e2ccea89",
   "metadata": {},
   "outputs": [
    {
     "data": {
      "text/plain": [
       "''"
      ]
     },
     "execution_count": 94,
     "metadata": {},
     "output_type": "execute_result"
    }
   ],
   "source": [
    "# Create a Tkinter window by writing window = tk.Tk(). Set the title of the window to \"Temperature Converter\" \n",
    " # by writing window.title(\"Temperature Converter\")\n",
    "    \n",
    "#import tkinter as tk\n",
    "#from tkinter import ttk\n",
    "\n",
    "\n",
    "#window = tk.Tk()\n",
    "#window.title(\"Temperature Converter\")\n",
    "\n",
    "window = tk.Tk()\n",
    "window.title(\"Temperature Converter\")"
   ]
  },
  {
   "cell_type": "markdown",
   "id": "a99fafb7",
   "metadata": {},
   "source": [
    "# Question 4"
   ]
  },
  {
   "cell_type": "code",
   "execution_count": 95,
   "id": "bf915baa",
   "metadata": {},
   "outputs": [
    {
     "data": {
      "text/plain": [
       "''"
      ]
     },
     "execution_count": 95,
     "metadata": {},
     "output_type": "execute_result"
    }
   ],
   "source": [
    "# Set the window to a fixed size by writing window.resizable(width=False, height=False).\n",
    "#from tkinter import *\n",
    "#window = Tk()\n",
    "# this gives the window the width(310), height(320) and the position(center)\n",
    "#window.geometry('310x340+500+200')\n",
    "# this is the title for the window\n",
    "#window.title('Currency Converter')\n",
    "# this will make the window not resizable, since height and width is FALSE\n",
    "#window.resizable(height=FALSE, width=FALSE)\n",
    "window.resizable(width=False, height=False)"
   ]
  },
  {
   "cell_type": "markdown",
   "id": "73713f34",
   "metadata": {},
   "source": [
    "# Question 5"
   ]
  },
  {
   "cell_type": "code",
   "execution_count": 96,
   "id": "51e1bdda",
   "metadata": {},
   "outputs": [],
   "source": [
    "# Create a frame to hold the Fahrenheit entry widget and label. Write frm_entry = tk.Frame(master=window)\n",
    " # to create the frame\n",
    "    #frm_entry=tk.Frame(master=window)\n",
    "frm_entry = tk.Frame(master=window)\n",
    "   "
   ]
  },
  {
   "cell_type": "markdown",
   "id": "80b286a2",
   "metadata": {},
   "source": [
    "# Question 6"
   ]
  },
  {
   "cell_type": "code",
   "execution_count": 97,
   "id": "4c9ee950",
   "metadata": {},
   "outputs": [],
   "source": [
    "# Create an entry widget to accept the temperature in Fahrenheit. Write ent_temperature = tk.Entry(master=frm_entry, width=10) \n",
    " # to create the entry widget\n",
    "ent_temperature = tk.Entry(master=frm_entry, width=10)"
   ]
  },
  {
   "cell_type": "markdown",
   "id": "1633d308",
   "metadata": {},
   "source": [
    "# Question 7"
   ]
  },
  {
   "cell_type": "code",
   "execution_count": 98,
   "id": "cc175216",
   "metadata": {},
   "outputs": [],
   "source": [
    "# Create a label widget to display the degree symbol and the text \"F\".\n",
    " # Write lbl_temp = tk.Label(master=frm_entry, text=\"\\N{DEGREE FAHRENHEIT}\")to create the label widget.\n",
    "lbl_temp = tk.Label(master=frm_entry, text=\"\\N{DEGREE FAHRENHEIT}\")\n",
    "    "
   ]
  },
  {
   "cell_type": "markdown",
   "id": "916b0493",
   "metadata": {},
   "source": [
    "# Question 8"
   ]
  },
  {
   "cell_type": "code",
   "execution_count": 99,
   "id": "c376b0ac",
   "metadata": {},
   "outputs": [],
   "source": [
    "# Use the grid() geometry manager to arrange the entry and label widgets in the frame.\n",
    "# Write ent_temperature.grid(row=0, column=0, sticky=\"e\") and lbl_temp.grid(row=0, column=1, sticky=\"w\") \n",
    "# to arrange the widgets.\n",
    "ent_temperature.grid(row=0, column=0, sticky=\"e\") and lbl_temp.grid(row=0, column=1, sticky=\"w\") "
   ]
  },
  {
   "cell_type": "markdown",
   "id": "8788bc85",
   "metadata": {},
   "source": [
    "# Question 9"
   ]
  },
  {
   "cell_type": "code",
   "execution_count": 100,
   "id": "420691e5",
   "metadata": {},
   "outputs": [],
   "source": [
    "# Create a button widget to initiate the conversion process. \n",
    "# Write btn_convert = tk.Button(master=window, text=\"\\N{RIGHTWARDS BLACK ARROW}\", command=fahrenheit_to_celsius)\n",
    "# to create the button widget.\n",
    "btn_convert = tk.Button(master=window, text=\"\\N{RIGHTWARDS BLACK ARROW}\", command=fahrenheit_to_celsius)"
   ]
  },
  {
   "cell_type": "markdown",
   "id": "133addfc",
   "metadata": {},
   "source": [
    "# Question 10"
   ]
  },
  {
   "cell_type": "code",
   "execution_count": 101,
   "id": "0af93485",
   "metadata": {},
   "outputs": [],
   "source": [
    "# Create a label widget to display the result of the conversion in Celsius. \n",
    "# Write lbl_result = tk.Label(master=window, text=\"\\N{DEGREE CELSIUS}\") to create the label widget.\n",
    "lbl_result = tk.Label(master=window, text=\"\\N{DEGREE CELSIUS}\")\n"
   ]
  },
  {
   "cell_type": "markdown",
   "id": "9a7e0b50",
   "metadata": {},
   "source": [
    "# Question 11"
   ]
  },
  {
   "cell_type": "code",
   "execution_count": 102,
   "id": "45a02a19",
   "metadata": {},
   "outputs": [],
   "source": [
    "# Use the grid() geometry manager to arrange the frame, button, and result label widgets.\n",
    "# Write frm_entry.grid(row=0, column=0, padx=10), btn_convert.grid(row=0, column=1, pady=10), and lbl_result.grid(row=0, column=2, padx=10) \n",
    "# to arrange the widgets.\n",
    "frm_entry.grid(row=0, column=0, padx=10)\n",
    "btn_convert.grid(row=0, column=1, pady=10)\n",
    "lbl_result.grid(row=0, column=2, padx=10) "
   ]
  },
  {
   "cell_type": "markdown",
   "id": "45994f16",
   "metadata": {},
   "source": [
    "# Question 12"
   ]
  },
  {
   "cell_type": "code",
   "execution_count": 103,
   "id": "a6986f27",
   "metadata": {},
   "outputs": [],
   "source": [
    "# Call the mainloop() method of the window object to start the application.\n",
    "mainloop()"
   ]
  },
  {
   "cell_type": "code",
   "execution_count": null,
   "id": "e378244b",
   "metadata": {},
   "outputs": [],
   "source": []
  }
 ],
 "metadata": {
  "kernelspec": {
   "display_name": "Python 3 (ipykernel)",
   "language": "python",
   "name": "python3"
  },
  "language_info": {
   "codemirror_mode": {
    "name": "ipython",
    "version": 3
   },
   "file_extension": ".py",
   "mimetype": "text/x-python",
   "name": "python",
   "nbconvert_exporter": "python",
   "pygments_lexer": "ipython3",
   "version": "3.10.9"
  }
 },
 "nbformat": 4,
 "nbformat_minor": 5
}
