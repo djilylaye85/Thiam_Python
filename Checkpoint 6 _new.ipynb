{
 "cells": [
  {
   "cell_type": "code",
   "execution_count": 1,
   "id": "c7bcd49f",
   "metadata": {},
   "outputs": [
    {
     "name": "stdout",
     "output_type": "stream",
     "text": [
      "enter the  number  of students 3\n",
      "enter the  number of subjets 3\n"
     ]
    }
   ],
   "source": [
    " import numpy as np\n",
    "Numb_students=int(input(\"enter the  number  of students \"))\n",
    "Numb_subjets=int(input(\"enter the  number of subjets \"))"
   ]
  },
  {
   "cell_type": "code",
   "execution_count": 9,
   "id": "ca4d08c3",
   "metadata": {},
   "outputs": [
    {
     "name": "stdout",
     "output_type": "stream",
     "text": [
      "[[0 0 0]\n",
      " [0 0 0]\n",
      " [0 0 0]]\n"
     ]
    }
   ],
   "source": [
    " a = np.zeros(shape=(3, 3), dtype=int)\n",
    "print(a)"
   ]
  },
  {
   "cell_type": "code",
   "execution_count": 23,
   "id": "89b8c255",
   "metadata": {},
   "outputs": [
    {
     "name": "stdout",
     "output_type": "stream",
     "text": [
      "[[84 95 89]\n",
      " [71 93 54]\n",
      " [43 91 96]]\n"
     ]
    }
   ],
   "source": [
    "a[0] = [84, 95,89]\n",
    "a[1] = [71, 93,54]\n",
    "a[2] = [43, 91,96]\n",
    "print(a)\n"
   ]
  },
  {
   "cell_type": "code",
   "execution_count": 24,
   "id": "c6a53468",
   "metadata": {},
   "outputs": [
    {
     "name": "stdout",
     "output_type": "stream",
     "text": [
      "268\n",
      "218\n",
      "230\n"
     ]
    }
   ],
   "source": [
    "total_marks1 = np.sum(a[0])\n",
    "print(total_marks1)\n",
    "total_marks2 = np.sum(a[1])\n",
    "print(total_marks2)\n",
    "total_marks3 = np.sum(a[2])\n",
    "print(total_marks3)"
   ]
  },
  {
   "cell_type": "code",
   "execution_count": 26,
   "id": "a17284f2",
   "metadata": {},
   "outputs": [
    {
     "name": "stdout",
     "output_type": "stream",
     "text": [
      "89.33333333333333 %\n",
      "72.66666666666667 %\n",
      "76.66666666666667 %\n"
     ]
    }
   ],
   "source": [
    "percentage_1=(total_marks1/(3*100))*100\n",
    "print(percentage_1, \"%\")\n",
    "percentage_2=(total_marks2/(3*100))*100\n",
    "print(percentage_2, \"%\")\n",
    "percentage_3=(total_marks3/(3*100))*100\n",
    "print(percentage_3, \"%\")"
   ]
  },
  {
   "cell_type": "code",
   "execution_count": 40,
   "id": "38324790",
   "metadata": {},
   "outputs": [
    {
     "name": "stdout",
     "output_type": "stream",
     "text": [
      "| student name   |   total marks |   percentage | grade   |\n",
      "|----------------+---------------+--------------+---------|\n",
      "| Amadou         |           268 |        89.33 | A       |\n",
      "| Souleye        |           218 |        72.67 | B+      |\n",
      "| Penda          |           230 |        76.67 | B+      |\n"
     ]
    }
   ],
   "source": [
    "from tabulate import tabulate\n",
    "table_result=[[\"Amadou\",268, 89.33, \"A\"],\n",
    "              [\"Souleye\",218, 72.67, \"B+\"],\n",
    "              [\"Penda\",230, 76.67, \"B+\"]]\n",
    "print(tabulate(table_result, headers=[\"student name\", \"total marks\", \"percentage\", \"grade\"], tablefmt='orgtbl'))\n",
    "              \n"
   ]
  },
  {
   "cell_type": "code",
   "execution_count": null,
   "id": "eed6f99b",
   "metadata": {},
   "outputs": [],
   "source": []
  }
 ],
 "metadata": {
  "kernelspec": {
   "display_name": "Python 3 (ipykernel)",
   "language": "python",
   "name": "python3"
  },
  "language_info": {
   "codemirror_mode": {
    "name": "ipython",
    "version": 3
   },
   "file_extension": ".py",
   "mimetype": "text/x-python",
   "name": "python",
   "nbconvert_exporter": "python",
   "pygments_lexer": "ipython3",
   "version": "3.10.9"
  }
 },
 "nbformat": 4,
 "nbformat_minor": 5
}
